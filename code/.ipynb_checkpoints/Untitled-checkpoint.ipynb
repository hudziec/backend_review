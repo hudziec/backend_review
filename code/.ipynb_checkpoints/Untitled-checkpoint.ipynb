{
 "cells": [
  {
   "cell_type": "markdown",
   "metadata": {},
   "source": [
    "garage_cars = Size of garage in car capacity,\n",
    "\n",
    "fireplaces = Number of fireplaces,\n",
    "\n",
    "totrms_abvgrd = Total rooms above grade,\n",
    "\n",
    "full_bath = Full bathrooms above grade,\n",
    "\n",
    "heating_qc = Heating quality and condition,\n",
    "\n",
    "exter_qual = Evaluates the quality of the material on the exterior,\n",
    "\n",
    "overall_qaul = Rates the overall material and finish of the house"
   ]
  },
  {
   "cell_type": "code",
   "execution_count": 1,
   "metadata": {},
   "outputs": [],
   "source": [
    "# 'garage_cars'; 1,\n",
    "# 'fireplaces '; 0,\n",
    "# 'totrms_abvgrd'; 9,\n",
    "# 'full_bath'; 2,\n",
    "# 'heating_qc'; 2,\n",
    "# 'exter_qual'; 0,\n",
    "# 'overall_qual'; 6\n",
    "\n",
    "# heating_qc = {'Fa':'0', 'TA':'1', 'Gd':'2', 'Ex':'3', 'Po':'4'}\n",
    "# exter_qual = {'TA':'0', 'Gd':'1', 'Ex':'2', 'Fa':'3'}\n",
    "# overall_qual = ([ 6,  5,  7,  4,  8,  3, 10,  9,  2])\n",
    "\n",
    "# Ex\tExcellent\n",
    "# Gd\tGood\n",
    "# TA\tAverage/Typical\n",
    "# Fa\tFair\n",
    "# Po\tPoor\n",
    "\n",
    "# calculated sales price = 123456.81313363\n",
    "\n",
    "# 159562.92734367\n",
    "\n",
    "# [109648.55160428]"
   ]
  },
  {
   "cell_type": "code",
   "execution_count": 2,
   "metadata": {},
   "outputs": [],
   "source": [
    "# ms_subclass\n",
    "# ms_zoning\tstreet\talley\tland_contour\tutilities\tlot_config\tneighborhood\tcondition_1\tbldg_type\t...\tfunctional\tfireplaces\tgarage_type\tgarage_cars\tgarage_qual\tpaved_drive\tenclosed_porch\tpool_area\tmo_sold\tyr_sold\n",
    "# 0\t190\t3\t0\t1\t0\t0\t1\t14\t0\t4\t...\t0\t0\t2\t1\t5\t1\t112\t0\t4\t2006\n"
   ]
  },
  {
   "cell_type": "code",
   "execution_count": null,
   "metadata": {},
   "outputs": [],
   "source": []
  },
  {
   "cell_type": "code",
   "execution_count": null,
   "metadata": {},
   "outputs": [],
   "source": []
  },
  {
   "cell_type": "code",
   "execution_count": 3,
   "metadata": {},
   "outputs": [],
   "source": [
    "import pandas as pd\n",
    "import numpy as np\n",
    "from sklearn.model_selection import train_test_split, KFold, cross_val_score\n",
    "from sklearn.linear_model import LinearRegression\n",
    "import seaborn as sns\n",
    "from matplotlib import pyplot as plt\n",
    "import matplotlib\n",
    "matplotlib.use('Agg')\n",
    "import matplotlib.pyplot as plt\n",
    "matplotlib.style.use('ggplot')\n",
    "import pickle"
   ]
  },
  {
   "cell_type": "code",
   "execution_count": null,
   "metadata": {},
   "outputs": [],
   "source": []
  },
  {
   "cell_type": "code",
   "execution_count": 4,
   "metadata": {},
   "outputs": [],
   "source": [
    "# prediction_2_data =[{'overall_qual': 6,\n",
    "#                      'exter_qual':0,\n",
    "#                      'heating_qc': 2,\n",
    "#                      'full_bath': 2,\n",
    "#                      'totrms_abvgrd': 11,\n",
    "#                      'fireplaces': 0,\n",
    "#                      'garage_cars': 1}]\n",
    "\n",
    "# prediction_2 = pd.DataFrame(prediction_2_data)\n",
    "\n",
    "# # overall_qual\texter_qual\theating_qc\tfull_bath\ttotrms_abvgrd\tfireplaces\tgarage_cars\n",
    "# # 0\t6\t0\t2\t2\t11\t0\t1"
   ]
  },
  {
   "cell_type": "code",
   "execution_count": 5,
   "metadata": {},
   "outputs": [],
   "source": [
    "prediction_2_data = [[6,0,2,2,11,0,1]]"
   ]
  },
  {
   "cell_type": "code",
   "execution_count": 6,
   "metadata": {},
   "outputs": [],
   "source": [
    "prediction_2 = pd.DataFrame(prediction_2_data, columns=['overall_qual',\n",
    "                                                        'exter_qual',\n",
    "                                                        'heating_qc',\n",
    "                                                        'full_bath',\n",
    "                                                        'totrms_abvgrd',\n",
    "                                                        'fireplaces',\n",
    "                                                        'garage_cars',])"
   ]
  },
  {
   "cell_type": "code",
   "execution_count": 7,
   "metadata": {},
   "outputs": [
    {
     "data": {
      "text/html": [
       "<div>\n",
       "<style scoped>\n",
       "    .dataframe tbody tr th:only-of-type {\n",
       "        vertical-align: middle;\n",
       "    }\n",
       "\n",
       "    .dataframe tbody tr th {\n",
       "        vertical-align: top;\n",
       "    }\n",
       "\n",
       "    .dataframe thead th {\n",
       "        text-align: right;\n",
       "    }\n",
       "</style>\n",
       "<table border=\"1\" class=\"dataframe\">\n",
       "  <thead>\n",
       "    <tr style=\"text-align: right;\">\n",
       "      <th></th>\n",
       "      <th>overall_qual</th>\n",
       "      <th>exter_qual</th>\n",
       "      <th>heating_qc</th>\n",
       "      <th>full_bath</th>\n",
       "      <th>totrms_abvgrd</th>\n",
       "      <th>fireplaces</th>\n",
       "      <th>garage_cars</th>\n",
       "    </tr>\n",
       "  </thead>\n",
       "  <tbody>\n",
       "    <tr>\n",
       "      <th>0</th>\n",
       "      <td>6</td>\n",
       "      <td>0</td>\n",
       "      <td>2</td>\n",
       "      <td>2</td>\n",
       "      <td>11</td>\n",
       "      <td>0</td>\n",
       "      <td>1</td>\n",
       "    </tr>\n",
       "  </tbody>\n",
       "</table>\n",
       "</div>"
      ],
      "text/plain": [
       "   overall_qual  exter_qual  heating_qc  full_bath  totrms_abvgrd  fireplaces  \\\n",
       "0             6           0           2          2             11           0   \n",
       "\n",
       "   garage_cars  \n",
       "0            1  "
      ]
     },
     "execution_count": 7,
     "metadata": {},
     "output_type": "execute_result"
    }
   ],
   "source": [
    "prediction_2.head()\n"
   ]
  },
  {
   "cell_type": "code",
   "execution_count": 8,
   "metadata": {},
   "outputs": [
    {
     "name": "stdout",
     "output_type": "stream",
     "text": [
      "[159562.92734367]\n"
     ]
    }
   ],
   "source": [
    "# load the model from disk\n",
    "loaded_model = pickle.load(open('finalized_model.sav', 'rb'))\n",
    "result = loaded_model.predict(prediction_2)\n",
    "print(result)"
   ]
  },
  {
   "cell_type": "code",
   "execution_count": null,
   "metadata": {},
   "outputs": [],
   "source": []
  }
 ],
 "metadata": {
  "kernelspec": {
   "display_name": "Python 3",
   "language": "python",
   "name": "python3"
  },
  "language_info": {
   "codemirror_mode": {
    "name": "ipython",
    "version": 3
   },
   "file_extension": ".py",
   "mimetype": "text/x-python",
   "name": "python",
   "nbconvert_exporter": "python",
   "pygments_lexer": "ipython3",
   "version": "3.7.1"
  }
 },
 "nbformat": 4,
 "nbformat_minor": 2
}
